{
  "nbformat": 4,
  "nbformat_minor": 0,
  "metadata": {
    "colab": {
      "name": "module 2 excercises.ipynb",
      "provenance": [],
      "collapsed_sections": [],
      "authorship_tag": "ABX9TyPVXQniAWZK5q//MsJF5f1o",
      "include_colab_link": true
    },
    "kernelspec": {
      "name": "python3",
      "display_name": "Python 3"
    },
    "language_info": {
      "name": "python"
    }
  },
  "cells": [
    {
      "cell_type": "markdown",
      "metadata": {
        "id": "view-in-github",
        "colab_type": "text"
      },
      "source": [
        "<a href=\"https://colab.research.google.com/github/Laxmanchowdaryyy/python-practise/blob/main/module_2_excercises.ipynb\" target=\"_parent\"><img src=\"https://colab.research.google.com/assets/colab-badge.svg\" alt=\"Open In Colab\"/></a>"
      ]
    },
    {
      "cell_type": "code",
      "execution_count": null,
      "metadata": {
        "colab": {
          "base_uri": "https://localhost:8080/"
        },
        "id": "5CL3OEz-GsjF",
        "outputId": "8b0213bb-5506-4fc8-8e3e-9a9342eb14cf"
      },
      "outputs": [
        {
          "name": "stdout",
          "output_type": "stream",
          "text": [
            "5\n",
            "2\n"
          ]
        },
        {
          "output_type": "execute_result",
          "data": {
            "text/plain": [
              "10.0"
            ]
          },
          "metadata": {},
          "execution_count": 35
        }
      ],
      "source": [
        "#Create a function which accepts two inputs from the user and compute nCr\n",
        "def fac(a):\n",
        "   f=1\n",
        "   for i in range(1,a+1):\n",
        "      f=f*i\n",
        "   return f\n",
        "def Ncr(n,r):\n",
        "  x=fac(n)\n",
        "  y=fac(r)\n",
        "  z=fac(n-r)\n",
        "  ncr=x/(y*z)\n",
        "  return ncr\n",
        "n=int(input(\"\"))\n",
        "r=int(input(\"\"))\n",
        "Ncr(n,r)"
      ]
    },
    {
      "cell_type": "code",
      "source": [
        "#Recursive function to compute GCD of 2 numbers\n",
        "def gcd(a,b) :\n",
        " k=a if (a<b) else b\n",
        " while True:\n",
        "  if(a%k==0 and b%k==0):\n",
        "   break\n",
        "  k-=1\n",
        " return k\n",
        "a=int(input(\"Enter 1st number \"))\n",
        "b=int(input(\"Enter 2nd number \"))\n",
        "g=gcd(a,b)\n",
        "print(g)"
      ],
      "metadata": {
        "id": "Mbc0tiztjhgQ"
      },
      "execution_count": null,
      "outputs": []
    },
    {
      "cell_type": "code",
      "source": [
        "#Recursive function to find product of two numbers\n",
        "def prod(a,b) :\n",
        " if a<b :\n",
        "  return prod(b,a)\n",
        " elif b!=0 :\n",
        "  return (a+prod(a,b-1))\n",
        " else :\n",
        "  return 0\n",
        "a=int(input(\"Enter 1st number \"))\n",
        "b=int(input(\"Enter 2nd number \"))\n",
        "p=prod(a,b)\n",
        "print(\"product of two numbers is\",p)"
      ],
      "metadata": {
        "id": "QUwDndvejxmw"
      },
      "execution_count": null,
      "outputs": []
    },
    {
      "cell_type": "code",
      "source": [
        "#Recursive function to generate Fibonacci series\n",
        "def fibb(n):\n",
        " if n<=1 :\n",
        "  return 1\n",
        " else :\n",
        "  return fibb(n-1)+fibb(n-2)\n",
        "n=int(input(\"Enter no. of terms \"))\n",
        "print(\"Fibonacci series is -->\")\n",
        "for i in range (n) :\n",
        " print(fibb(i))\n"
      ],
      "metadata": {
        "id": "l6CGgNjMkEjA"
      },
      "execution_count": null,
      "outputs": []
    },
    {
      "cell_type": "code",
      "source": [
        "#Program to print a specified list after removing the 0th, 4th and 5th elements\n",
        "def dele(a) :\n",
        " a.pop(0)\n",
        " a.pop(3)\n",
        " a.pop(3)\n",
        " return a\n",
        "List = ['Red', 'Green', 'White', 'Black', 'Pink', 'Yellow']\n",
        "a= dele(List)\n",
        "print(a)\n"
      ],
      "metadata": {
        "id": "6415AyQKkQuY"
      },
      "execution_count": null,
      "outputs": []
    },
    {
      "cell_type": "code",
      "source": [
        "#Program to get the difference between the two lists\n",
        "li1=[]\n",
        "n = int(input(\"Enter number of elements\"))\n",
        "for i in range(0, n):\n",
        "    ele = int(input())\n",
        "    li1.append(ele)\n",
        "\n",
        "li2=[]\n",
        "n= int(input(\"enter number of elements in list 2\"))\n",
        "for i in range(0,n):\n",
        "  ele=int(input())\n",
        "  li2.append(ele)\n",
        "\n",
        "def Diff(li1, li2):\n",
        "    return list(set(li1) - set(li2)) + list(set(li2) - set(li1))\n",
        "\n",
        "print(Diff(li1, li2))"
      ],
      "metadata": {
        "colab": {
          "base_uri": "https://localhost:8080/"
        },
        "id": "2MQ05uC2O_Wh",
        "outputId": "41069900-d02c-4232-fa20-97c46ec22887"
      },
      "execution_count": null,
      "outputs": [
        {
          "output_type": "stream",
          "name": "stdout",
          "text": [
            "Enter number of elements6\n",
            "1\n",
            "2\n",
            "3\n",
            "4\n",
            "5\n",
            "6\n",
            "enter number of elements in list 22\n",
            "3\n",
            "2\n",
            "[1, 4, 5, 6]\n"
          ]
        }
      ]
    },
    {
      "cell_type": "code",
      "source": [
        "#Program to find the second smallest number and second largest number in a list\n",
        "def second_highest_and_smallest(list1):\n",
        "  list1.sort()\n",
        "  print(\"The second smallest number in the list is \", list1[1])\n",
        "  print(\"The second highest number in the list is \", list1[-2])\n",
        "  return second_highest_and_smallest\n",
        "\n",
        "list1=[]\n",
        "n = int(input(\"Enter number of elements\"))\n",
        "for i in range(0, n):\n",
        "    ele = int(input())\n",
        "    list1.append(ele)\n",
        "result= (second_highest_and_smallest(list1))"
      ],
      "metadata": {
        "id": "-nT1IH_BSwCq",
        "colab": {
          "base_uri": "https://localhost:8080/"
        },
        "outputId": "7a5949e8-f867-4f41-de66-ae6f795991c2"
      },
      "execution_count": null,
      "outputs": [
        {
          "output_type": "stream",
          "name": "stdout",
          "text": [
            "Enter number of elements5\n",
            "1\n",
            "2\n",
            "3\n",
            "4\n",
            "5\n",
            "The second smallest number in the list is  2\n",
            "The second highest number in the list is  4\n"
          ]
        }
      ]
    },
    {
      "cell_type": "code",
      "source": [
        "#Given a list of numbers of list, write a Python program to create a list of tuples having first element as the number and second element as the square of the number.\n",
        "def number_and_square(list1):\n",
        "  \n",
        "   result = [ (x, pow(x, 2)) for x in list1]\n",
        "   print(result)\n",
        "\n",
        "list1=[]\n",
        "n = int(input(\"Enter number of elements\"))\n",
        "for i in range(0, n):\n",
        "    x=int(input())\n",
        "    list1.append(x)\n",
        "result=number_and_square(list1)"
      ],
      "metadata": {
        "colab": {
          "base_uri": "https://localhost:8080/"
        },
        "id": "Bod6jVvstxbj",
        "outputId": "02818ed5-6a79-4962-fdc4-2be93a1cacbc"
      },
      "execution_count": null,
      "outputs": [
        {
          "output_type": "stream",
          "name": "stdout",
          "text": [
            "Enter number of elements2\n",
            "4\n",
            "5\n",
            "[(4, 16), (5, 25)]\n"
          ]
        }
      ]
    },
    {
      "cell_type": "code",
      "source": [
        "#Given list of tuples, remove all the tuples with length K\n",
        "def remove_length_k(tuples):\n",
        "  result = [a for a in tuples if len(a) != k]\n",
        "  print(result)\n",
        "\n",
        "tuples = [(4, 5), (4, ), (8, 6, 7), (1, ), (3, 4, 6, 7)]\n",
        "\n",
        "k=int(input(\"enter value of k\"))\n",
        "result= remove_length_k(tuples)\n",
        "\n"
      ],
      "metadata": {
        "colab": {
          "base_uri": "https://localhost:8080/"
        },
        "id": "WXt1eo0dxVF0",
        "outputId": "29490e81-3ebb-4035-f51a-4c535f9d439f"
      },
      "execution_count": null,
      "outputs": [
        {
          "output_type": "stream",
          "name": "stdout",
          "text": [
            "enter value of k2\n",
            "[(4,), (8, 6, 7), (1,), (3, 4, 6, 7)]\n"
          ]
        }
      ]
    },
    {
      "cell_type": "code",
      "source": [
        "#Program to generate and print a dictionary that contains a number (between 1 and n) in the form (x, x*x). \n",
        "def dict_numb(dict1):\n",
        "  d=dict()\n",
        "  for x in range(1,n+1):\n",
        "    d[x]=x*x\n",
        "  print(d)\n",
        "  return dict_numb\n",
        "\n",
        "dict1=dict()\n",
        "n=int(input(\"Input a number \"))\n",
        "result=dict_numb(dict1)"
      ],
      "metadata": {
        "colab": {
          "base_uri": "https://localhost:8080/"
        },
        "id": "lumuRbl50sEl",
        "outputId": "59a856aa-56f1-4316-b652-ed963d20cd61"
      },
      "execution_count": null,
      "outputs": [
        {
          "output_type": "stream",
          "name": "stdout",
          "text": [
            "Input a number 5\n",
            "{1: 1, 2: 4, 3: 9, 4: 16, 5: 25}\n"
          ]
        }
      ]
    },
    {
      "cell_type": "code",
      "source": [
        "#Program for Counting occurrence of a certain element in a string\n",
        "a=input(\"Enter your string \")\n",
        "n=input(\"Enter element to be counted \")\n",
        "f=a.count(n)\n",
        "print(f\"{n} is repeated {f} times\")"
      ],
      "metadata": {
        "id": "qATJXZ1-lLdH"
      },
      "execution_count": null,
      "outputs": []
    },
    {
      "cell_type": "code",
      "source": [
        "#Program to remove a key from a dictionary\n",
        "tdict = {\n",
        " \"brand\": \"Ford\",\n",
        " \"model\": \"Mustang\",\n",
        " \"year\": 1964\n",
        "}\n",
        "x=tdict.keys()\n",
        "print(\"Keys of this dictionary are : \" , end= \"\")\n",
        "print(x)\n",
        "x=input(\"Enter key to be removed \")\n",
        "tdict = {\n",
        " \"brand\": \"Ford\",\n",
        " \"model\": \"Mustang\",\n",
        " \"year\": 1964\n",
        "}\n",
        "tdict.pop(x)\n",
        "tdict"
      ],
      "metadata": {
        "id": "42u1TGails-g"
      },
      "execution_count": null,
      "outputs": []
    },
    {
      "cell_type": "code",
      "source": [
        "#Program for replacing one substring by another\n",
        "a=input(\"Enter your string \")\n",
        "n=input(\"Enter substring to be replaced \")\n",
        "m=input(\"Enter replacing substring \")\n",
        "x=a.replace(n,m)\n",
        "print(f\"replaced string is {x}\")\n"
      ],
      "metadata": {
        "id": "Wu1lPsEHlQUJ"
      },
      "execution_count": null,
      "outputs": []
    },
    {
      "cell_type": "code",
      "source": [
        "#Program to Acronym generator for any user input (ex-input is Random memory access then output should be RMA).Example - Random number (RN)\n",
        "a=list(map(str, input().rstrip().split()))\n",
        "d=[]\n",
        "for i in range(len(a)) :\n",
        " b=a[i]\n",
        " c=b[0]\n",
        " c=c.upper()\n",
        " d.append(c)\n",
        "for i in range (len(d)) :\n",
        " print(d[i] , end =\"\")"
      ],
      "metadata": {
        "id": "8Eed2YN3lTqQ"
      },
      "execution_count": null,
      "outputs": []
    },
    {
      "cell_type": "code",
      "source": [
        "#Program to count the number of strings where the string length is 2 or more and the first and last character are same from a given list of strings\n",
        "a=list(map(str, input().rstrip().rsplit()))\n",
        "for i in a :\n",
        " s=0\n",
        " l=len(i)\n",
        " if i[0]==i[l-1] and l>2:\n",
        "  s+=1\n",
        " print(s)\n"
      ],
      "metadata": {
        "id": "XrTp6vTOlbaZ"
      },
      "execution_count": null,
      "outputs": []
    },
    {
      "cell_type": "code",
      "source": [
        "#Program to perform operations on string using unicodes ,splitting of string,accessing elements of string using locations\n",
        "a=input(\"Enter your string \")\n",
        "x=a.split()\n",
        "n=int(input(\"Enter your index number \"))\n",
        "y=a[n]\n",
        "print(f\"original string is {a}\\nsplitted string is {x}\\nindex number points to {y}\")"
      ],
      "metadata": {
        "id": "JEaQrW-bk-2p"
      },
      "execution_count": null,
      "outputs": []
    },
    {
      "cell_type": "code",
      "source": [
        "#Program to get the maximum and minimum value in a dictionary\n",
        "dic={}\n",
        "n=int(input(\"Enter number of keys to e entered \"))\n",
        "for i in range (n) :\n",
        " k=input(\"enter key :\")\n",
        " v=int(input(\"enter value :\"))\n",
        " dic.update({k:v})\n",
        "x= list(dic.values())\n",
        "x.sort()\n",
        "print(x[0],x[len(x)-1])"
      ],
      "metadata": {
        "id": "2hLWVswZkzG5"
      },
      "execution_count": null,
      "outputs": []
    }
  ]
}